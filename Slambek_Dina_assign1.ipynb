{
 "cells": [
  {
   "cell_type": "markdown",
   "metadata": {},
   "source": [
    "# NOTE: Course 'Data Types for Data Science in Python' (chapter 1, 2) in DataCamp might be helpful for completing this assignment"
   ]
  },
  {
   "cell_type": "markdown",
   "metadata": {},
   "source": [
    "# Lists (5 points)"
   ]
  },
  {
   "cell_type": "markdown",
   "metadata": {},
   "source": [
    "1.Create a list containing the names of animals 'cat', 'lion', 'cow' and 'crocodile': animal_list"
   ]
  },
  {
   "cell_type": "code",
   "execution_count": 1,
   "metadata": {},
   "outputs": [
    {
     "name": "stdout",
     "output_type": "stream",
     "text": [
      "['cat', 'lion', 'cow', 'crocodile']\n"
     ]
    }
   ],
   "source": [
    "#your code/answer here\n",
    "animal_list = ['cat', 'lion', 'cow', 'crocodile']\n",
    "print(animal_list)"
   ]
  },
  {
   "cell_type": "markdown",
   "metadata": {},
   "source": [
    "2.Extend animal_list by adding 'horse' and 'dog' using extend() function, then print animal_test"
   ]
  },
  {
   "cell_type": "code",
   "execution_count": 2,
   "metadata": {},
   "outputs": [
    {
     "name": "stdout",
     "output_type": "stream",
     "text": [
      "['cat', 'lion', 'cow', 'crocodile', 'horse', 'dog']\n"
     ]
    }
   ],
   "source": [
    "#your code/answer here\n",
    "animal_list.extend(['horse', 'dog'])\n",
    "print(animal_list)"
   ]
  },
  {
   "cell_type": "markdown",
   "metadata": {},
   "source": [
    "3.Find the position 'crocodile' in the animal_list, and assign it to variable 'position'"
   ]
  },
  {
   "cell_type": "code",
   "execution_count": 3,
   "metadata": {},
   "outputs": [
    {
     "name": "stdout",
     "output_type": "stream",
     "text": [
      "3\n"
     ]
    }
   ],
   "source": [
    "#your code/answer here\n",
    "position = animal_list.index('crocodile')\n",
    "print(position)"
   ]
  },
  {
   "cell_type": "markdown",
   "metadata": {},
   "source": [
    "4.Remove 'crocodile' from animal_list using pop() function"
   ]
  },
  {
   "cell_type": "code",
   "execution_count": 4,
   "metadata": {},
   "outputs": [
    {
     "name": "stdout",
     "output_type": "stream",
     "text": [
      "Popped element:  crocodile  List remaining:  ['cat', 'lion', 'cow', 'horse', 'dog']\n"
     ]
    }
   ],
   "source": [
    "#your code/answer here\n",
    "a = animal_list.pop(3)\n",
    "print('Popped element: ', a, ' List remaining: ', animal_list)"
   ]
  },
  {
   "cell_type": "markdown",
   "metadata": {},
   "source": [
    "5.Loop over the animal_list, and print each element"
   ]
  },
  {
   "cell_type": "code",
   "execution_count": 5,
   "metadata": {},
   "outputs": [
    {
     "name": "stdout",
     "output_type": "stream",
     "text": [
      "cat\n",
      "lion\n",
      "cow\n",
      "horse\n",
      "dog\n"
     ]
    }
   ],
   "source": [
    "#your code/answer here\n",
    "for element in animal_list:\n",
    "    print(element)"
   ]
  },
  {
   "cell_type": "code",
   "execution_count": null,
   "metadata": {},
   "outputs": [],
   "source": []
  },
  {
   "cell_type": "markdown",
   "metadata": {},
   "source": [
    "# Tuple (2 points)"
   ]
  },
  {
   "cell_type": "code",
   "execution_count": 6,
   "metadata": {},
   "outputs": [],
   "source": [
    "cities = ['Almaty', 'Boston', 'Toronto', 'Paris', 'Tokio']\n",
    "countries = ['Kazakhstan', 'United States', 'Canada', 'France', 'Japan']"
   ]
  },
  {
   "cell_type": "markdown",
   "metadata": {},
   "source": [
    "1.Use the zip() function to pair up cities and countries into a variable called places."
   ]
  },
  {
   "cell_type": "code",
   "execution_count": 7,
   "metadata": {},
   "outputs": [
    {
     "name": "stdout",
     "output_type": "stream",
     "text": [
      "[('Kazakhstan', 'Almaty'), ('United States', 'Boston'), ('Canada', 'Toronto'), ('France', 'Paris'), ('Japan', 'Tokio')]\n"
     ]
    }
   ],
   "source": [
    "#your code/answer here\n",
    "cities = ['Almaty', 'Boston', 'Toronto', 'Paris', 'Tokio']\n",
    "countries = ['Kazakhstan', 'United States', 'Canada', 'France', 'Japan']\n",
    "places = list(zip(countries, cities))\n",
    "print(places)"
   ]
  },
  {
   "cell_type": "markdown",
   "metadata": {},
   "source": [
    "2.Use a for loop to loop through places, using enumerate() to keep track of your position. \n",
    "Unpack pairs of cities and countries into the variables idx and pair. Print the place number (starting from 1), city, and country, in that order.\n",
    "\n",
    "The output should look like this:\n",
    "Place 1: Almaty in Kazakhstan\n",
    "Place 2: Boston in United States\n",
    "Place 3: Toronto in Canada\n",
    "Place 4: Paris in France\n",
    "Place 5: Tokio in Japan"
   ]
  },
  {
   "cell_type": "code",
   "execution_count": 18,
   "metadata": {},
   "outputs": [
    {
     "name": "stdout",
     "output_type": "stream",
     "text": [
      "Place 4: Japan in Tokio\n"
     ]
    }
   ],
   "source": [
    "#your code/answer here\n",
    "places = zip(countries, cities)\n",
    "for idx, pair in enumerate(places):\n",
    "    city, country = pair\n",
    "print('Place {}: {} in {}'.format(idx, city, country))"
   ]
  },
  {
   "cell_type": "code",
   "execution_count": null,
   "metadata": {},
   "outputs": [],
   "source": []
  },
  {
   "cell_type": "markdown",
   "metadata": {},
   "source": [
    "# SETS (5 points)"
   ]
  },
  {
   "cell_type": "code",
   "execution_count": 9,
   "metadata": {},
   "outputs": [],
   "source": [
    "Aizhan_travel_places = {'Boston', 'Madrid', 'Tokio', 'Rome', 'Cancun', 'Los Angeles', 'Moscow'}\n",
    "Indira_travel_places = {'Boston', 'New York', 'Istanbul', 'Paris', 'Cancun', 'Los Angeles'}"
   ]
  },
  {
   "cell_type": "markdown",
   "metadata": {},
   "source": [
    "1. Find the union: all_travel_places"
   ]
  },
  {
   "cell_type": "code",
   "execution_count": 8,
   "metadata": {},
   "outputs": [
    {
     "name": "stdout",
     "output_type": "stream",
     "text": [
      "{'Cancun', 'Los Angeles', 'Boston', 'Tokio', 'Moscow', 'Istanbul', 'Rome', 'New York', 'Madrid', 'Paris'}\n"
     ]
    }
   ],
   "source": [
    "#your code/answer here\n",
    "Aizhan_travel_places = {'Boston', 'Madrid', 'Tokio', 'Rome', 'Cancun', 'Los Angeles', 'Moscow'}\n",
    "Indira_travel_places = {'Boston', 'New York', 'Istanbul', 'Paris', 'Cancun', 'Los Angeles'}\n",
    "all_travel_places = Aizhan_travel_places.union(Indira_travel_places)\n",
    "print(all_travel_places)"
   ]
  },
  {
   "cell_type": "markdown",
   "metadata": {},
   "source": [
    "2. Find the intersection of travel places where both Aizhan and Indira have been and assign it to variable overlapping_places. Print overlapping_places"
   ]
  },
  {
   "cell_type": "code",
   "execution_count": 9,
   "metadata": {},
   "outputs": [
    {
     "name": "stdout",
     "output_type": "stream",
     "text": [
      "{'Cancun', 'Boston', 'Los Angeles'}\n"
     ]
    }
   ],
   "source": [
    "#your code/answer here\n",
    "overlaping_places = Aizhan_travel_places.intersection(Indira_travel_places)\n",
    "print(overlaping_places)"
   ]
  },
  {
   "cell_type": "markdown",
   "metadata": {},
   "source": [
    "3. Print the count of places in overlapping_places"
   ]
  },
  {
   "cell_type": "code",
   "execution_count": 10,
   "metadata": {},
   "outputs": [
    {
     "name": "stdout",
     "output_type": "stream",
     "text": [
      "3\n"
     ]
    }
   ],
   "source": [
    "#your code/answer here\n",
    "overlaping_places = Aizhan_travel_places.intersection(Indira_travel_places)\n",
    "print(len(overlaping_places))"
   ]
  },
  {
   "cell_type": "markdown",
   "metadata": {},
   "source": [
    "What are the cities where Aizhan was, but not Indira?\n",
    "4. Find the difference between Aizhan's and Indira's travel cities: differences_Aizhan, and print"
   ]
  },
  {
   "cell_type": "code",
   "execution_count": 11,
   "metadata": {},
   "outputs": [
    {
     "name": "stdout",
     "output_type": "stream",
     "text": [
      "{'Moscow', 'Madrid', 'Rome', 'Tokio'}\n"
     ]
    }
   ],
   "source": [
    "#your code/answer here\n",
    "differences_Aizhan = Aizhan_travel_places.difference(Indira_travel_places)\n",
    "print(differences_Aizhan)"
   ]
  },
  {
   "cell_type": "markdown",
   "metadata": {},
   "source": [
    "What are the cities where Indira was, but not Aizhan?\n",
    "5. Find the difference between Indira's and Aizhan's travel cities: differences_Indira, and print"
   ]
  },
  {
   "cell_type": "code",
   "execution_count": 12,
   "metadata": {},
   "outputs": [
    {
     "name": "stdout",
     "output_type": "stream",
     "text": [
      "{'New York', 'Paris', 'Istanbul'}\n"
     ]
    }
   ],
   "source": [
    "#your code/answer here\n",
    "differences_Indira = Indira_travel_places.difference(Aizhan_travel_places)\n",
    "print(differences_Indira)"
   ]
  },
  {
   "cell_type": "code",
   "execution_count": null,
   "metadata": {},
   "outputs": [],
   "source": []
  },
  {
   "cell_type": "markdown",
   "metadata": {},
   "source": [
    "# Dictionary (8 points)"
   ]
  },
  {
   "cell_type": "code",
   "execution_count": 15,
   "metadata": {},
   "outputs": [],
   "source": [
    "Aizhan_travel_places = {1:'Boston', 2:'Madrid', 3:'Tokio', 4:'Rome', 5:'Cancun', 6:'Los Angeles', 7:'Moscow'}"
   ]
  },
  {
   "cell_type": "code",
   "execution_count": 16,
   "metadata": {},
   "outputs": [
    {
     "name": "stdout",
     "output_type": "stream",
     "text": [
      "{1: 'Boston', 2: 'Madrid', 3: 'Tokio', 4: 'Rome', 5: 'Cancun', 6: 'Los Angeles', 7: 'Moscow'}\n"
     ]
    }
   ],
   "source": [
    "print(Aizhan_travel_places)"
   ]
  },
  {
   "cell_type": "markdown",
   "metadata": {},
   "source": [
    "What are the last 3 cities where Aizhan had been?\n",
    "1. Sort the Aizhan_travel_places dict by rank in descending order and print the first 3 items using 'for' loop and sorted() function.\n",
    "\n",
    "The output should look like this:\n",
    "Moscow\n",
    "Los Angeles\n",
    "Cancun"
   ]
  },
  {
   "cell_type": "code",
   "execution_count": 13,
   "metadata": {},
   "outputs": [
    {
     "name": "stdout",
     "output_type": "stream",
     "text": [
      "Moscow\n",
      "Los Angeles\n",
      "Cancun\n"
     ]
    }
   ],
   "source": [
    "#your code/answer here\n",
    "Aizhan_travel_places = {1:'Boston', 2:'Madrid', 3:'Tokio', 4:'Rome', 5:'Cancun', 6:'Los Angeles', 7:'Moscow'}\n",
    "for rank in sorted(Aizhan_travel_places, reverse=True)[:3]:\n",
    "    # Print each item\n",
    "    print(Aizhan_travel_places[rank])"
   ]
  },
  {
   "cell_type": "markdown",
   "metadata": {},
   "source": [
    "2. Safely print rank 5 from Aizhan_travel_places dictionary or 'Not Found'"
   ]
  },
  {
   "cell_type": "code",
   "execution_count": 14,
   "metadata": {},
   "outputs": [
    {
     "name": "stdout",
     "output_type": "stream",
     "text": [
      "Cancun\n"
     ]
    }
   ],
   "source": [
    "#your code/answer here\n",
    "Aizhan_travel_places = {1:'Boston', 2:'Madrid', 3:'Tokio', 4:'Rome', 5:'Cancun', 6:'Los Angeles', 7:'Moscow'}\n",
    "print(Aizhan_travel_places.get(5,'Not Found'))"
   ]
  },
  {
   "cell_type": "markdown",
   "metadata": {},
   "source": [
    "#NESTED DATA"
   ]
  },
  {
   "cell_type": "code",
   "execution_count": 19,
   "metadata": {},
   "outputs": [],
   "source": [
    "travel_cities = {'Kazakhstan': {1: 'Almaty',\n",
    "                        2: 'Astana',\n",
    "                        3: 'Karaganda'},\n",
    "                 'USA': {1: 'Boston',\n",
    "                        2: 'Los Angeles',\n",
    "                        3: 'San Francisco',\n",
    "                        4: 'Seattle'},\n",
    "                 'Europe': {1: 'Rome',\n",
    "                        2: 'Paris',\n",
    "                        3: 'London'}}"
   ]
  },
  {
   "cell_type": "code",
   "execution_count": 20,
   "metadata": {},
   "outputs": [
    {
     "data": {
      "text/plain": [
       "{'Kazakhstan': {1: 'Almaty', 2: 'Astana', 3: 'Karaganda'},\n",
       " 'USA': {1: 'Boston', 2: 'Los Angeles', 3: 'San Francisco', 4: 'Seattle'},\n",
       " 'Europe': {1: 'Rome', 2: 'Paris', 3: 'London'}}"
      ]
     },
     "execution_count": 20,
     "metadata": {},
     "output_type": "execute_result"
    }
   ],
   "source": [
    "travel_cities"
   ]
  },
  {
   "cell_type": "markdown",
   "metadata": {},
   "source": [
    "3. Print a list of keys from the travel_cities dictionary\n",
    "\n",
    "The output should look like this:\n",
    "dict_keys(['Kazakhstan', 'USA', 'Europe'])"
   ]
  },
  {
   "cell_type": "code",
   "execution_count": 15,
   "metadata": {},
   "outputs": [
    {
     "name": "stdout",
     "output_type": "stream",
     "text": [
      "dict_keys(['Kazakhstan', 'USA', 'Europe'])\n"
     ]
    }
   ],
   "source": [
    "#your code/answer here\n",
    "travel_cities = {'Kazakhstan': {1: 'Almaty',\n",
    "                        2: 'Astana',\n",
    "                        3: 'Karaganda'},\n",
    "                 'USA': {1: 'Boston',\n",
    "                        2: 'Los Angeles',\n",
    "                        3: 'San Francisco',\n",
    "                        4: 'Seattle'},\n",
    "                 'Europe': {1: 'Rome',\n",
    "                        2: 'Paris',\n",
    "                        3: 'London'}}\n",
    "print(travel_cities.keys())"
   ]
  },
  {
   "cell_type": "markdown",
   "metadata": {},
   "source": [
    "4. Loop over the travel_cities dictionary to safely print the country and the first ranked city or 'Unknown'\n",
    "\n",
    "The output should look like this:\n",
    "Kazakhstan Almaty\n",
    "USA Boston\n",
    "Europe Rome"
   ]
  },
  {
   "cell_type": "code",
   "execution_count": 16,
   "metadata": {},
   "outputs": [
    {
     "name": "stdout",
     "output_type": "stream",
     "text": [
      "Kazakhstan Almaty\n",
      "USA Boston\n",
      "Europe Rome\n"
     ]
    }
   ],
   "source": [
    "#your code/answer here\n",
    "for country in travel_cities:\n",
    "    print(country, travel_cities[country].get(1, 'Unknown'))"
   ]
  },
  {
   "cell_type": "markdown",
   "metadata": {},
   "source": [
    "5. Create a new key 'Asia' in the travel_cities dictionary and update it with the following data in a list of tuples: (1, 'Tokio'), (2, 'Seoul'). Print the travel_cities\n",
    "\n",
    "The output should look like this:\n",
    "{'Kazakhstan': {1: 'Almaty', 2: 'Astana', 3: 'Karaganda'}, 'USA': {1: 'Boston', 2: 'Los Angeles', 3: 'San Francisco', 4: 'Seattle'}, 'Europe': {1: 'Rome', 2: 'Paris', 3: 'London'}, 'Asia': {1: 'Tokio', 2: 'Seoul'}}"
   ]
  },
  {
   "cell_type": "code",
   "execution_count": 17,
   "metadata": {},
   "outputs": [
    {
     "name": "stdout",
     "output_type": "stream",
     "text": [
      "{'Kazakhstan': {1: 'Almaty', 2: 'Astana', 3: 'Karaganda'}, 'USA': {1: 'Boston', 2: 'Los Angeles', 3: 'San Francisco', 4: 'Seattle'}, 'Europe': {1: 'Rome', 2: 'Paris', 3: 'London'}, 'Asia': {1: 'Tokio', 2: 'Seoul'}}\n"
     ]
    }
   ],
   "source": [
    "#your code/answer here\n",
    "new_key = {'Asia':{1: 'Tokio', 2: 'Seoul'}}\n",
    "travel_cities.update(new_key)\n",
    "print(travel_cities)"
   ]
  },
  {
   "cell_type": "code",
   "execution_count": null,
   "metadata": {},
   "outputs": [],
   "source": []
  }
 ],
 "metadata": {
  "kernelspec": {
   "display_name": "Python 3",
   "language": "python",
   "name": "python3"
  },
  "language_info": {
   "codemirror_mode": {
    "name": "ipython",
    "version": 3
   },
   "file_extension": ".py",
   "mimetype": "text/x-python",
   "name": "python",
   "nbconvert_exporter": "python",
   "pygments_lexer": "ipython3",
   "version": "3.8.8"
  }
 },
 "nbformat": 4,
 "nbformat_minor": 2
}
