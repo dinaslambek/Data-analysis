{
 "cells": [
  {
   "cell_type": "code",
   "execution_count": 1,
   "metadata": {},
   "outputs": [],
   "source": [
    "import pandas as pd\n",
    "import numpy as np"
   ]
  },
  {
   "cell_type": "markdown",
   "metadata": {},
   "source": [
    "1. (1p) Load the data from 'countries.csv' file into a Pandas DataFrame. Assign the name of dataframe as df_countries. Print the first 5 records of the dataframe"
   ]
  },
  {
   "cell_type": "code",
   "execution_count": 2,
   "metadata": {},
   "outputs": [
    {
     "data": {
      "text/html": [
       "<div>\n",
       "<style scoped>\n",
       "    .dataframe tbody tr th:only-of-type {\n",
       "        vertical-align: middle;\n",
       "    }\n",
       "\n",
       "    .dataframe tbody tr th {\n",
       "        vertical-align: top;\n",
       "    }\n",
       "\n",
       "    .dataframe thead th {\n",
       "        text-align: right;\n",
       "    }\n",
       "</style>\n",
       "<table border=\"1\" class=\"dataframe\">\n",
       "  <thead>\n",
       "    <tr style=\"text-align: right;\">\n",
       "      <th></th>\n",
       "      <th>location</th>\n",
       "      <th>continent</th>\n",
       "      <th>population</th>\n",
       "      <th>life_expectancy</th>\n",
       "      <th>hospital_beds_per_thousand</th>\n",
       "      <th>gdp_per_capita</th>\n",
       "    </tr>\n",
       "  </thead>\n",
       "  <tbody>\n",
       "    <tr>\n",
       "      <th>0</th>\n",
       "      <td>Afghanistan</td>\n",
       "      <td>Asia</td>\n",
       "      <td>38928341</td>\n",
       "      <td>64.83</td>\n",
       "      <td>0.50</td>\n",
       "      <td>1803.987</td>\n",
       "    </tr>\n",
       "    <tr>\n",
       "      <th>1</th>\n",
       "      <td>Albania</td>\n",
       "      <td>Europe</td>\n",
       "      <td>2877800</td>\n",
       "      <td>78.57</td>\n",
       "      <td>2.89</td>\n",
       "      <td>11803.431</td>\n",
       "    </tr>\n",
       "    <tr>\n",
       "      <th>2</th>\n",
       "      <td>Algeria</td>\n",
       "      <td>Africa</td>\n",
       "      <td>43851043</td>\n",
       "      <td>76.88</td>\n",
       "      <td>1.90</td>\n",
       "      <td>13913.839</td>\n",
       "    </tr>\n",
       "    <tr>\n",
       "      <th>3</th>\n",
       "      <td>Andorra</td>\n",
       "      <td>Europe</td>\n",
       "      <td>77265</td>\n",
       "      <td>83.73</td>\n",
       "      <td>NaN</td>\n",
       "      <td>NaN</td>\n",
       "    </tr>\n",
       "    <tr>\n",
       "      <th>4</th>\n",
       "      <td>Angola</td>\n",
       "      <td>Africa</td>\n",
       "      <td>32866268</td>\n",
       "      <td>61.15</td>\n",
       "      <td>NaN</td>\n",
       "      <td>5819.495</td>\n",
       "    </tr>\n",
       "  </tbody>\n",
       "</table>\n",
       "</div>"
      ],
      "text/plain": [
       "      location continent  population  life_expectancy  \\\n",
       "0  Afghanistan      Asia    38928341            64.83   \n",
       "1      Albania    Europe     2877800            78.57   \n",
       "2      Algeria    Africa    43851043            76.88   \n",
       "3      Andorra    Europe       77265            83.73   \n",
       "4       Angola    Africa    32866268            61.15   \n",
       "\n",
       "   hospital_beds_per_thousand  gdp_per_capita  \n",
       "0                        0.50        1803.987  \n",
       "1                        2.89       11803.431  \n",
       "2                        1.90       13913.839  \n",
       "3                         NaN             NaN  \n",
       "4                         NaN        5819.495  "
      ]
     },
     "execution_count": 2,
     "metadata": {},
     "output_type": "execute_result"
    }
   ],
   "source": [
    "filename = 'countries.csv'\n",
    "df_countries = pd.read_csv(filename)\n",
    "df_countries.head(5)"
   ]
  },
  {
   "cell_type": "code",
   "execution_count": 3,
   "metadata": {},
   "outputs": [],
   "source": [
    "#your code"
   ]
  },
  {
   "cell_type": "markdown",
   "metadata": {},
   "source": [
    "2. (1p) How many countries does the dataframe 'df_countries' contain? Use the function to print the number of rows and columns in the 'df_countries'"
   ]
  },
  {
   "cell_type": "code",
   "execution_count": 3,
   "metadata": {},
   "outputs": [
    {
     "name": "stdout",
     "output_type": "stream",
     "text": [
      "210\n"
     ]
    }
   ],
   "source": [
    "#your code\n",
    "print(df_countries.shape[0])"
   ]
  },
  {
   "cell_type": "markdown",
   "metadata": {},
   "source": [
    "3. (1p) Count the number of missing values in each columns of 'df_countries'"
   ]
  },
  {
   "cell_type": "code",
   "execution_count": 4,
   "metadata": {},
   "outputs": [
    {
     "name": "stdout",
     "output_type": "stream",
     "text": [
      "location                       0\n",
      "continent                      0\n",
      "population                     0\n",
      "life_expectancy                3\n",
      "hospital_beds_per_thousand    46\n",
      "gdp_per_capita                27\n",
      "dtype: int64\n"
     ]
    }
   ],
   "source": [
    "#your code\n",
    "print(df_countries.isna().sum())"
   ]
  },
  {
   "cell_type": "markdown",
   "metadata": {},
   "source": [
    "4. (1p) Replace missing values in column 'hospital_beds_per_thousand' with value 0. Print the first 5 records of the dataframe"
   ]
  },
  {
   "cell_type": "code",
   "execution_count": 5,
   "metadata": {},
   "outputs": [
    {
     "name": "stdout",
     "output_type": "stream",
     "text": [
      "0      0.50\n",
      "1      2.89\n",
      "2      1.90\n",
      "3      0.00\n",
      "4      0.00\n",
      "       ... \n",
      "205    2.60\n",
      "206    0.00\n",
      "207    0.70\n",
      "208    2.00\n",
      "209    1.70\n",
      "Name: hospital_beds_per_thousand, Length: 210, dtype: float64\n"
     ]
    }
   ],
   "source": [
    "#your code\n",
    "print(df_countries['hospital_beds_per_thousand'].fillna(0))"
   ]
  },
  {
   "cell_type": "markdown",
   "metadata": {},
   "source": [
    "5. (1p) Calculate the total population of all the countries that are listed in the dataset. Your answer should include the function that will calculate the sum. "
   ]
  },
  {
   "cell_type": "code",
   "execution_count": 6,
   "metadata": {},
   "outputs": [
    {
     "name": "stdout",
     "output_type": "stream",
     "text": [
      "7757980095\n"
     ]
    }
   ],
   "source": [
    "#your code\n",
    "print(df_countries.population.sum())"
   ]
  },
  {
   "cell_type": "markdown",
   "metadata": {},
   "source": [
    "6. (2p) Sort the dataframe by 2 variables: 'continent' in ascending order, 'population' in descending order. The sorting should be written in one line of code"
   ]
  },
  {
   "cell_type": "code",
   "execution_count": 7,
   "metadata": {},
   "outputs": [
    {
     "name": "stdout",
     "output_type": "stream",
     "text": [
      "                         location      continent  population  life_expectancy  \\\n",
      "141                       Nigeria         Africa   206139587            54.69   \n",
      "63                       Ethiopia         Africa   114963583            66.60   \n",
      "58                          Egypt         Africa   102334403            71.99   \n",
      "52   Democratic Republic of Congo         Africa    89561404            60.68   \n",
      "187                      Tanzania         Africa    59734213            65.46   \n",
      "..                            ...            ...         ...              ...   \n",
      "149                      Paraguay  South America     7132530            74.25   \n",
      "201                       Uruguay  South America     3473727            77.91   \n",
      "84                         Guyana  South America      786559            69.91   \n",
      "180                      Suriname  South America      586634            71.68   \n",
      "65               Falkland Islands  South America        3483            81.44   \n",
      "\n",
      "     hospital_beds_per_thousand  gdp_per_capita  \n",
      "141                         NaN        5338.454  \n",
      "63                          0.3        1729.927  \n",
      "58                          1.6       10550.206  \n",
      "52                          NaN         808.133  \n",
      "187                         0.7        2683.304  \n",
      "..                          ...             ...  \n",
      "149                         1.3        8827.010  \n",
      "201                         2.8       20551.409  \n",
      "84                          1.6        7435.047  \n",
      "180                         3.1       13767.119  \n",
      "65                          NaN             NaN  \n",
      "\n",
      "[210 rows x 6 columns]\n"
     ]
    }
   ],
   "source": [
    "#your code\n",
    "print(df_countries.sort_values(by = ['continent', 'population'], ascending = [True, False]))"
   ]
  },
  {
   "cell_type": "markdown",
   "metadata": {},
   "source": [
    "7. (2p) How many countries have a high life expectancy? Subset rows where 'life_expectancy' is greater than 80.0, and then calculate the number of countries. (Hint: the number of countries can be calculated using the function that prints the number of rows and columns in dataframe)"
   ]
  },
  {
   "cell_type": "code",
   "execution_count": 8,
   "metadata": {},
   "outputs": [
    {
     "name": "stdout",
     "output_type": "stream",
     "text": [
      "47\n"
     ]
    }
   ],
   "source": [
    "#your code\n",
    "print(df_countries[df_countries['life_expectancy']>80].shape[0])"
   ]
  },
  {
   "cell_type": "markdown",
   "metadata": {},
   "source": [
    "8. (2p) Create and add a new column in countries_df to show the overall GDP per country. The overall GDP os calculated by multiplying population to per capita GDP. Print the first 5 records of the dataframe to check if the new column was added"
   ]
  },
  {
   "cell_type": "code",
   "execution_count": 11,
   "metadata": {},
   "outputs": [
    {
     "name": "stdout",
     "output_type": "stream",
     "text": [
      "0      7.022622e+10\n",
      "1      3.396791e+10\n",
      "2      6.101364e+11\n",
      "3               NaN\n",
      "4      1.912651e+11\n",
      "           ...     \n",
      "205             NaN\n",
      "206             NaN\n",
      "207             NaN\n",
      "208             NaN\n",
      "209             NaN\n",
      "Length: 210, dtype: float64\n"
     ]
    }
   ],
   "source": [
    "#your code\n",
    "print(df_countries['population']*df_countries['gdp_per_capita'].head(5))"
   ]
  },
  {
   "cell_type": "markdown",
   "metadata": {},
   "source": [
    "9. (1p) Subset rows that will show countries only in 'Europe' and 'Asia'"
   ]
  },
  {
   "cell_type": "code",
   "execution_count": 13,
   "metadata": {},
   "outputs": [
    {
     "name": "stdout",
     "output_type": "stream",
     "text": [
      "           location continent  population  life_expectancy  \\\n",
      "0       Afghanistan      Asia    38928341            64.83   \n",
      "1           Albania    Europe     2877800            78.57   \n",
      "3           Andorra    Europe       77265            83.73   \n",
      "8           Armenia      Asia     2963234            75.09   \n",
      "11          Austria    Europe     9006400            81.54   \n",
      "..              ...       ...         ...              ...   \n",
      "198  United Kingdom    Europe    67886004            81.32   \n",
      "202      Uzbekistan      Asia    33469199            71.72   \n",
      "203         Vatican    Europe         809            75.12   \n",
      "205         Vietnam      Asia    97338583            75.40   \n",
      "207           Yemen      Asia    29825968            66.12   \n",
      "\n",
      "     hospital_beds_per_thousand  gdp_per_capita  \n",
      "0                          0.50        1803.987  \n",
      "1                          2.89       11803.431  \n",
      "3                           NaN             NaN  \n",
      "8                          4.20        8787.580  \n",
      "11                         7.37       45436.686  \n",
      "..                          ...             ...  \n",
      "198                        2.54       39753.244  \n",
      "202                        4.00        6253.104  \n",
      "203                         NaN             NaN  \n",
      "205                        2.60        6171.884  \n",
      "207                        0.70        1479.147  \n",
      "\n",
      "[98 rows x 6 columns]\n"
     ]
    }
   ],
   "source": [
    "#your code\n",
    "print(df_countries[(df_countries[\"continent\"]== \"Europe\") | (df_countries[\"continent\"]== \"Asia\")])"
   ]
  },
  {
   "cell_type": "markdown",
   "metadata": {},
   "source": [
    "10. (1p) Change the index of the dataframe from numerical to values in column 'location'. Print the first 5 records of the dataframe"
   ]
  },
  {
   "cell_type": "code",
   "execution_count": 14,
   "metadata": {},
   "outputs": [
    {
     "name": "stdout",
     "output_type": "stream",
     "text": [
      "            continent  population  life_expectancy  \\\n",
      "location                                             \n",
      "Afghanistan      Asia    38928341            64.83   \n",
      "Albania        Europe     2877800            78.57   \n",
      "Algeria        Africa    43851043            76.88   \n",
      "Andorra        Europe       77265            83.73   \n",
      "Angola         Africa    32866268            61.15   \n",
      "\n",
      "             hospital_beds_per_thousand  gdp_per_capita  \n",
      "location                                                 \n",
      "Afghanistan                        0.50        1803.987  \n",
      "Albania                            2.89       11803.431  \n",
      "Algeria                            1.90       13913.839  \n",
      "Andorra                             NaN             NaN  \n",
      "Angola                              NaN        5819.495  \n"
     ]
    }
   ],
   "source": [
    "#your code\n",
    "print(df_countries.set_index('location').head(5))"
   ]
  },
  {
   "cell_type": "markdown",
   "metadata": {},
   "source": [
    "11. (1p) Slice the dataframe to select countries from 'Canada' to 'Costa Rica' using .loc() "
   ]
  },
  {
   "cell_type": "code",
   "execution_count": 16,
   "metadata": {},
   "outputs": [
    {
     "name": "stdout",
     "output_type": "stream",
     "text": [
      "                    location      continent  population  life_expectancy  \\\n",
      "35                    Canada  North America    37742157            82.43   \n",
      "36                Cape Verde         Africa      555988            72.98   \n",
      "37            Cayman Islands  North America       65720            83.92   \n",
      "38  Central African Republic         Africa     4829764            53.28   \n",
      "39                      Chad         Africa    16425859            54.24   \n",
      "40                     Chile  South America    19116209            80.18   \n",
      "41                     China           Asia  1439323774            76.91   \n",
      "42                  Colombia  South America    50882884            77.29   \n",
      "43                   Comoros         Africa      869595            64.32   \n",
      "44                     Congo         Africa     5518092            64.57   \n",
      "45                Costa Rica  North America     5094114            80.28   \n",
      "\n",
      "    hospital_beds_per_thousand  gdp_per_capita  \n",
      "35                        2.50       44017.591  \n",
      "36                        2.10        6222.554  \n",
      "37                         NaN       49903.029  \n",
      "38                        1.00         661.240  \n",
      "39                         NaN        1768.153  \n",
      "40                        2.11       22767.037  \n",
      "41                        4.34       15308.712  \n",
      "42                        1.71       13254.949  \n",
      "43                        2.20        1413.890  \n",
      "44                         NaN        4881.406  \n",
      "45                        1.13       15524.995  \n"
     ]
    }
   ],
   "source": [
    "#your code\n",
    "print(df_countries.loc[35:45, :])"
   ]
  },
  {
   "cell_type": "markdown",
   "metadata": {},
   "source": [
    "12. (2p) Slice the dataframe to select countries from 'Kazakhstan' to 'Malaysia', and 2 columns: 'population' and 'gdp_per_capita' using .loc() function."
   ]
  },
  {
   "cell_type": "code",
   "execution_count": 26,
   "metadata": {},
   "outputs": [
    {
     "name": "stdout",
     "output_type": "stream",
     "text": [
      "     population  gdp_per_capita\n",
      "102    18776707       24055.588\n",
      "103    53771300        2993.028\n",
      "104     1932774        9795.834\n",
      "105     4270563       65530.537\n",
      "106     6524191        3393.474\n",
      "107     7275556        6397.360\n",
      "108     1886202       25063.846\n",
      "109     6825442       13367.565\n",
      "110     2142252        2851.153\n",
      "111     5057677         752.788\n",
      "112     6871287       17881.509\n",
      "113       38137             NaN\n",
      "114     2722291       29524.265\n",
      "115      625976       94277.965\n",
      "116     2083380       13111.214\n",
      "117    27691019        1416.440\n",
      "118    19129955        1095.042\n",
      "119    32365998       26808.164\n"
     ]
    }
   ],
   "source": [
    "#your code\n",
    "print(df_countries.loc[102:119, [\"population\",\"gdp_per_capita\"]])"
   ]
  },
  {
   "cell_type": "markdown",
   "metadata": {},
   "source": [
    "13. (3p) What are the 10 countries with the highest life_expectancy? Create a new dataframe from 'df_countries' that will include 10 countries with the highest life_expectancy. Assign name for a new dataframe as 'highest_LifeExp_countries'"
   ]
  },
  {
   "cell_type": "code",
   "execution_count": 28,
   "metadata": {},
   "outputs": [
    {
     "name": "stdout",
     "output_type": "stream",
     "text": [
      "           location      continent  population  life_expectancy  \\\n",
      "127          Monaco         Europe       39244            86.75   \n",
      "162      San Marino         Europe       33938            84.97   \n",
      "87        Hong Kong           Asia     7496988            84.86   \n",
      "99            Japan           Asia   126476458            84.63   \n",
      "37   Cayman Islands  North America       65720            83.92   \n",
      "183     Switzerland         Europe     8654618            83.78   \n",
      "3           Andorra         Europe       77265            83.73   \n",
      "169       Singapore           Asia     5850343            83.62   \n",
      "177           Spain         Europe    46754783            83.56   \n",
      "97            Italy         Europe    60461828            83.51   \n",
      "\n",
      "     hospital_beds_per_thousand  gdp_per_capita  \n",
      "127                       13.80             NaN  \n",
      "162                        3.80       56861.470  \n",
      "87                          NaN       56054.920  \n",
      "99                        13.05       39002.223  \n",
      "37                          NaN       49903.029  \n",
      "183                        4.53       57410.166  \n",
      "3                           NaN             NaN  \n",
      "169                        2.40       85535.383  \n",
      "177                        2.97       34272.360  \n",
      "97                         3.18       35220.084  \n"
     ]
    }
   ],
   "source": [
    "#your code\n",
    "highest_LifeExp_countries = df_countries.sort_values('life_expectancy', ascending=False).head(10)\n",
    "print(highest_LifeExp_countries)"
   ]
  },
  {
   "cell_type": "markdown",
   "metadata": {},
   "source": [
    "14. (1p) Save newly created dataframe 'highest_LifeExp_countries' as a 'highest_LifeExp_countries.csv' file. "
   ]
  },
  {
   "cell_type": "code",
   "execution_count": 29,
   "metadata": {},
   "outputs": [],
   "source": [
    "#your code\n",
    "highest_LifeExp_countries.to_csv('highest_LifeExp_countries.csv')"
   ]
  },
  {
   "cell_type": "markdown",
   "metadata": {},
   "source": [
    "#Overall 20 points"
   ]
  }
 ],
 "metadata": {
  "kernelspec": {
   "display_name": "Python 3",
   "language": "python",
   "name": "python3"
  },
  "language_info": {
   "codemirror_mode": {
    "name": "ipython",
    "version": 3
   },
   "file_extension": ".py",
   "mimetype": "text/x-python",
   "name": "python",
   "nbconvert_exporter": "python",
   "pygments_lexer": "ipython3",
   "version": "3.8.8"
  }
 },
 "nbformat": 4,
 "nbformat_minor": 2
}
